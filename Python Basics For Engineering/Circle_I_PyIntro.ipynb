{
 "cells": [
  {
   "cell_type": "markdown",
   "metadata": {},
   "source": [
    "# Circle-I\n",
    "## Introduction to Python"
   ]
  },
  {
   "cell_type": "markdown",
   "metadata": {},
   "source": [
    "Hello! Thank you for downloading this notebook which is part of Circle-I program that is made for HMFT-ITB from the Innovation and Workshop Division of BP HMFT-ITB 2020/2021. The topics that you can learn from this notebook are stated below.\n",
    "\n",
    "* Importing libraries\n",
    "* Functions\n",
    "* Decorators\n",
    "* Classes\n",
    "* Numpy\n",
    "* Numba\n",
    "* Pandas\n",
    "\n",
    "Many thanks to the contributors to this module and hopefully this will help in your future innovations and research!"
   ]
  },
  {
   "cell_type": "markdown",
   "metadata": {},
   "source": [
    "------------------------------------"
   ]
  },
  {
   "cell_type": "markdown",
   "metadata": {},
   "source": [
    "## Importing Libraries"
   ]
  },
  {
   "cell_type": "markdown",
   "metadata": {},
   "source": [
    "A python library is a collection of functions and methods that you can use to perform many actions without writing the code. For example, by using Numpy you can do multiple numerical operations by only using functions that are inside of the Numpy library. In this notebook there will be some libraries that are required for it to run which are:\n",
    "\n",
    "* Numpy\n",
    "* Matplotlib\n",
    "* Numba\n",
    "* Pandas\n",
    "\n",
    "The uses of each libraries will be described in its own section in this notebook. Now, to begin we will start by importing the numpy library and testing it."
   ]
  },
  {
   "cell_type": "code",
   "execution_count": null,
   "metadata": {},
   "outputs": [],
   "source": [
    "import numpy"
   ]
  },
  {
   "cell_type": "markdown",
   "metadata": {},
   "source": [
    "By using the 'import' keyword in python we can import the selected library. To use functions that are located in the libraries we can do as below."
   ]
  },
  {
   "cell_type": "code",
   "execution_count": null,
   "metadata": {},
   "outputs": [],
   "source": [
    "numpy.array([0, 1, 2])"
   ]
  },
  {
   "cell_type": "markdown",
   "metadata": {},
   "source": [
    "It's gonna be tiring if we use numpy.{something} everytime we want to use a function right? Well, we can change how we import the library by using 'as'."
   ]
  },
  {
   "cell_type": "code",
   "execution_count": null,
   "metadata": {},
   "outputs": [],
   "source": [
    "import numpy as np"
   ]
  },
  {
   "cell_type": "markdown",
   "metadata": {},
   "source": [
    "Now, we can use the term 'np' rather than 'numpy' to use the functions that are located in the numpy library. The name that is assigned to the imported library is up to the user, for instance you can name it 'nmp' rather than 'np', but for ease of use of everyone that wants to see or use your code just use the normally used term such as np, pd, plt, etc."
   ]
  },
  {
   "cell_type": "code",
   "execution_count": null,
   "metadata": {},
   "outputs": [],
   "source": [
    "np.array([0, 1, 2])"
   ]
  },
  {
   "cell_type": "markdown",
   "metadata": {},
   "source": [
    "There is another way of importing from libraries. By using 'from ... import ...'. By using the keyword 'from' we can import a certain function ONLY rather than the whole library. Below is an example of accessing the function choices from the random library."
   ]
  },
  {
   "cell_type": "code",
   "execution_count": null,
   "metadata": {},
   "outputs": [],
   "source": [
    "from random import choices"
   ]
  },
  {
   "cell_type": "code",
   "execution_count": null,
   "metadata": {},
   "outputs": [],
   "source": [
    "choices([0, 1, 2])"
   ]
  },
  {
   "cell_type": "markdown",
   "metadata": {},
   "source": [
    "And below it is shown that we can't use other functions that are located in the random library due to it not being imported wholly to the kernel."
   ]
  },
  {
   "cell_type": "code",
   "execution_count": null,
   "metadata": {},
   "outputs": [],
   "source": [
    "random.random()"
   ]
  },
  {
   "cell_type": "markdown",
   "metadata": {},
   "source": [
    "------------------------------"
   ]
  },
  {
   "cell_type": "markdown",
   "metadata": {},
   "source": [
    "## Functions"
   ]
  },
  {
   "cell_type": "markdown",
   "metadata": {},
   "source": [
    "A function in python is a block of code which runs only when you call it. When defining a function there are certain number of parameters that the function will receive once its called that the user needs to decide. An example of function will be shown below"
   ]
  },
  {
   "cell_type": "code",
   "execution_count": null,
   "metadata": {},
   "outputs": [],
   "source": [
    "def sayhello():\n",
    "    print(\"Hello!\")\n",
    "    \n",
    "sayhello()"
   ]
  },
  {
   "cell_type": "markdown",
   "metadata": {},
   "source": [
    "Now, we'll add arguments into the function, say your name for example."
   ]
  },
  {
   "cell_type": "code",
   "execution_count": null,
   "metadata": {},
   "outputs": [],
   "source": [
    "def sayhello(name):\n",
    "    print(\"Hello! Nice to meet you {}!\".format(name))\n",
    "\n",
    "sayhello(input(\"Enter your name:\"))"
   ]
  },
  {
   "cell_type": "markdown",
   "metadata": {},
   "source": [
    "That should cover the basics of functions, now we'll move on into decorators which are closely related to functions."
   ]
  },
  {
   "cell_type": "markdown",
   "metadata": {},
   "source": [
    "--------------------------"
   ]
  },
  {
   "cell_type": "markdown",
   "metadata": {},
   "source": [
    "## Decorators"
   ]
  },
  {
   "cell_type": "markdown",
   "metadata": {},
   "source": [
    "Decorators are used to add functionality to a function that is created in python. By using decorators, it won't change the function that has been created, but it will run a wrapper function first before the function itself. Take this decorator function for example."
   ]
  },
  {
   "cell_type": "code",
   "execution_count": null,
   "metadata": {},
   "outputs": [],
   "source": [
    "def decorator_func(func):\n",
    "    def wrapper_func():\n",
    "        print('This wrapper goes before the function below')\n",
    "        return func()\n",
    "    return wrapper_func"
   ]
  },
  {
   "cell_type": "markdown",
   "metadata": {},
   "source": [
    "Next, we create a function to use the decorator with."
   ]
  },
  {
   "cell_type": "code",
   "execution_count": null,
   "metadata": {},
   "outputs": [],
   "source": [
    "def some_func():\n",
    "    print('This is the function')\n",
    "\n",
    "some_func()"
   ]
  },
  {
   "cell_type": "markdown",
   "metadata": {},
   "source": [
    "By adding the decorator before the function is used, the results will be."
   ]
  },
  {
   "cell_type": "code",
   "execution_count": null,
   "metadata": {},
   "outputs": [],
   "source": [
    "@decorator_func\n",
    "def some_func():\n",
    "    print('This is the function with decorator')\n",
    "\n",
    "some_func()"
   ]
  },
  {
   "cell_type": "markdown",
   "metadata": {},
   "source": [
    "It is shown here that the function that we created has another functionality that can be added through the wrapper function that is defined in the decorator function."
   ]
  },
  {
   "cell_type": "markdown",
   "metadata": {},
   "source": [
    "----------------------------"
   ]
  },
  {
   "cell_type": "markdown",
   "metadata": {},
   "source": [
    "## Classes"
   ]
  },
  {
   "cell_type": "markdown",
   "metadata": {},
   "source": [
    "Python classes are sketches or blueprints for an object. An object in python is a collection of data and functions that act on those data. Using classes can help in creating more complex programs. Below is an example of defining a class."
   ]
  },
  {
   "cell_type": "code",
   "execution_count": null,
   "metadata": {},
   "outputs": [],
   "source": [
    "class Human:\n",
    "    def __init__(self, name, age):\n",
    "        self.name = name\n",
    "        self.age = age\n",
    "        self.topic = None\n",
    "    \n",
    "    def __str__(self):\n",
    "        return \"My name is {} and I'm {} years old.\".format(self.name, self.age)\n",
    "    \n",
    "    def greet(self):\n",
    "        if self.topic == None:\n",
    "            return \"Hello my name is {}!\".format(self.name)\n",
    "        else:\n",
    "            return \"Hello my name is {}! I'm enrolled in {}\".format(self.name, self.topic)\n",
    "    \n",
    "    def enroll(self, topic):\n",
    "        self.topic = topic"
   ]
  },
  {
   "cell_type": "markdown",
   "metadata": {},
   "source": [
    "Notice the keyword that has double underscores such as the init and the str. These special functions are called constructors. The init constructor is used to initialize all the variables that will be used in the class. The str constructor acts as a string representation of the object that is made with the class, so that when you print the object, it will print a string that is defined in the str constructor. Now let's create an object with the class that we have defined."
   ]
  },
  {
   "cell_type": "code",
   "execution_count": null,
   "metadata": {},
   "outputs": [],
   "source": [
    "s = Human('Skullers', '20')"
   ]
  },
  {
   "cell_type": "markdown",
   "metadata": {},
   "source": [
    "Let's call a function that is defined inside the class."
   ]
  },
  {
   "cell_type": "code",
   "execution_count": null,
   "metadata": {},
   "outputs": [],
   "source": [
    "s.greet()"
   ]
  },
  {
   "cell_type": "markdown",
   "metadata": {},
   "source": [
    "Now let's use a function that needs args like the 'enroll' function."
   ]
  },
  {
   "cell_type": "code",
   "execution_count": null,
   "metadata": {},
   "outputs": [],
   "source": [
    "s.enroll('Circle-I')"
   ]
  },
  {
   "cell_type": "markdown",
   "metadata": {},
   "source": [
    "Let's call the 'greet' function again."
   ]
  },
  {
   "cell_type": "code",
   "execution_count": null,
   "metadata": {},
   "outputs": [],
   "source": [
    "s.greet()"
   ]
  },
  {
   "cell_type": "markdown",
   "metadata": {},
   "source": [
    "See that the function changes because of the if condition inside the 'greet' function. To find out more about python classes try it out yourself and experiment with it, there are tons of great tutorials out there to find!"
   ]
  },
  {
   "cell_type": "markdown",
   "metadata": {},
   "source": [
    "---------------"
   ]
  },
  {
   "cell_type": "markdown",
   "metadata": {},
   "source": [
    "## Numpy"
   ]
  },
  {
   "cell_type": "markdown",
   "metadata": {},
   "source": [
    "Numpy is a library that is used to create and manipulate multi-dimensional arrays. It can performs various numerical operations too, which is a great tool for engineers like us! There are many features that can be used with Numpy, the complete documentation can be accessed through this link: https://numpy.org/doc/stable/. There is an interesting topic that will be discussed in this module which is Numpy Vectorization."
   ]
  },
  {
   "cell_type": "markdown",
   "metadata": {},
   "source": [
    "### Numpy Vectorization\n",
    "\n",
    "Most operations in python are done element-wise i.e. using for loops such as"
   ]
  },
  {
   "cell_type": "code",
   "execution_count": null,
   "metadata": {},
   "outputs": [],
   "source": [
    "import numpy as np\n",
    "\n",
    "a = np.array([1, 2, 3])\n",
    "b = np.array([4, 5, 6])\n",
    "\n",
    "out = []\n",
    "\n",
    "for i in range(a.shape[0]):\n",
    "    out.append(a[i] + b[i])\n",
    "out"
   ]
  },
  {
   "cell_type": "markdown",
   "metadata": {},
   "source": [
    "The sum product of array a and b are calculated by summing each 'element' of each array, hence the term element-wise. Whereas, a vectorized operation would operate every element in the array simultaneously by calling each variables to the operation."
   ]
  },
  {
   "cell_type": "code",
   "execution_count": null,
   "metadata": {},
   "outputs": [],
   "source": [
    "a + b"
   ]
  },
  {
   "cell_type": "markdown",
   "metadata": {},
   "source": [
    "By using vectorization, more complex arrays or other datas can be operated more effieciently thanks to **The Broadcasting Rule**. The rule states that an array can be broadcasted to another array for each missing length the first array has, but the other length of the two arrays must have the same size. An example of this is"
   ]
  },
  {
   "cell_type": "code",
   "execution_count": null,
   "metadata": {},
   "outputs": [],
   "source": [
    "A = np.array([[0, 0, 0],\n",
    "             [1, 1, 1],\n",
    "             [2, 2, 2],\n",
    "             [3, 3, 3]])\n",
    "\n",
    "A + b"
   ]
  },
  {
   "cell_type": "markdown",
   "metadata": {},
   "source": [
    "It can be seen that array b is broadcasted to each row of array A. A vectorized operation can also be done by using a boolean operator that can result in a boolean array. An example of this is shown as"
   ]
  },
  {
   "cell_type": "code",
   "execution_count": null,
   "metadata": {},
   "outputs": [],
   "source": [
    "a > 1"
   ]
  },
  {
   "cell_type": "markdown",
   "metadata": {},
   "source": [
    "----------------------"
   ]
  },
  {
   "cell_type": "markdown",
   "metadata": {},
   "source": [
    "## Numba"
   ]
  },
  {
   "cell_type": "markdown",
   "metadata": {},
   "source": [
    "In most cases which includes complex operation and variables, python can be slow, really slow. It can take a considerable amoount of time when running a complex function over and over. One way to reduce the computation time for python is by using the Numba library. Numba compiles the function that we have created by using the Just-In-Time compiler or JIT for short. To use the compiler, the user needs to use the JIT function as a decorator. The full documentation for this library can be accessed through this link: http://numba.pydata.org/numba-doc/latest/index.html. An example of using Numba will be shown below."
   ]
  },
  {
   "cell_type": "code",
   "execution_count": null,
   "metadata": {},
   "outputs": [],
   "source": [
    "from numba import njit, jit"
   ]
  },
  {
   "cell_type": "markdown",
   "metadata": {},
   "source": [
    "Above are shown to ways in compiling the function. For this module we'll just use the njit which is the JIT compiler but in NoPython mode. The reason to this is because getting the functions to compile in the no python mode is the key to good performance (Check this particular link for more information: https://numba.pydata.org/numba-doc/latest/user/performance-tips.html). One example we'll use is the euler method. Below are the functions that will be used."
   ]
  },
  {
   "cell_type": "code",
   "execution_count": null,
   "metadata": {},
   "outputs": [],
   "source": [
    "# Euler Method\n",
    "def euler(t0, x0, target, h, function):\n",
    "    # Initiate the value of x\n",
    "    xval = x0\n",
    "    \n",
    "    # Iterate until the value of t reaches the target t\n",
    "    while t0 < target:\n",
    "        xval = xval + h*function(t0, x0)\n",
    "        t0 = t0 + h\n",
    "    # Returns the value of x\n",
    "    return xval"
   ]
  },
  {
   "cell_type": "markdown",
   "metadata": {},
   "source": [
    "And now we'll give the function a njit decorator to improve it's performance."
   ]
  },
  {
   "cell_type": "code",
   "execution_count": null,
   "metadata": {},
   "outputs": [],
   "source": [
    "# Compiled Euler Method\n",
    "@njit\n",
    "def eu_jit(t0, x0, target, h, function):\n",
    "    # Initiate the value of x\n",
    "    xval = x0\n",
    "        \n",
    "    # Iterate until the value of x reaches the target x\n",
    "    while t0 < target:\n",
    "        xval = xval + h*function(t0, x0)\n",
    "        t0 = t0 + h\n",
    "    # Returns the value of x\n",
    "    return xval"
   ]
  },
  {
   "cell_type": "markdown",
   "metadata": {},
   "source": [
    "For the function that we will find the value of is\n",
    "\n",
    "$$\n",
    "\\dot{x} = \\frac{t-x}{2}\n",
    "$$\n",
    "\n",
    "The function will be defined below and always remember to jit the functions that are used in a jitted function. As shown above the eu_jit function takes in an argument of function which is used as a function inside a function. Hence, the function argument that will be used with the eu_jit needs to be jitted too."
   ]
  },
  {
   "cell_type": "code",
   "execution_count": null,
   "metadata": {},
   "outputs": [],
   "source": [
    "@njit\n",
    "def func(t, x):\n",
    "    return((t-x)/2)"
   ]
  },
  {
   "cell_type": "markdown",
   "metadata": {},
   "source": [
    "And now, we need to compile the function to make sure the next time we use it, the performance will be significantly better. Note that the value type that is used for compiling will determine the data input for the next uses of the jitted function. For instance, we will use a float datatype as input."
   ]
  },
  {
   "cell_type": "code",
   "execution_count": null,
   "metadata": {},
   "outputs": [],
   "source": [
    "# Compile with random inputs\n",
    "eu_jit(1., 1., 2., 0.5, func)"
   ]
  },
  {
   "cell_type": "markdown",
   "metadata": {},
   "source": [
    "Notice that the output is as we want to which is a float datatype. Now to show the execution time of a jitted function and a normal function, both functions will be run in the next cell below."
   ]
  },
  {
   "cell_type": "code",
   "execution_count": null,
   "metadata": {},
   "outputs": [],
   "source": [
    "%timeit euler(0., 1., 7., 0.05, func)"
   ]
  },
  {
   "cell_type": "code",
   "execution_count": null,
   "metadata": {},
   "outputs": [],
   "source": [
    "%timeit eu_jit(0., 1., 7., 0.05, func)"
   ]
  },
  {
   "cell_type": "markdown",
   "metadata": {},
   "source": [
    "Maybe the time difference isn't that big right? Now we will run both functions multiple times (don't run if you're not sure of your computing power)."
   ]
  },
  {
   "cell_type": "code",
   "execution_count": null,
   "metadata": {},
   "outputs": [],
   "source": [
    "%timeit for i in range(10000): a = euler(0., 1., 7., 0.05, func)"
   ]
  },
  {
   "cell_type": "code",
   "execution_count": null,
   "metadata": {},
   "outputs": [],
   "source": [
    "%timeit for i in range(10000): a = eu_jit(0., 1., 7., 0.05, func)"
   ]
  },
  {
   "cell_type": "markdown",
   "metadata": {},
   "source": [
    "Now it can be seen that the Numba improves the computation time significantly for a much more complex process. It will help a lot if you create a more intricate function."
   ]
  },
  {
   "cell_type": "markdown",
   "metadata": {},
   "source": [
    "----------------------"
   ]
  },
  {
   "cell_type": "markdown",
   "metadata": {},
   "source": [
    "## Pandas"
   ]
  },
  {
   "cell_type": "markdown",
   "metadata": {},
   "source": [
    "Pandas is a library that helps user in doing data analysis and operations. The full documentation of the Pandas library can be accessed through this link: https://pandas.pydata.org/docs/. For a simple example we will read data from an example csv file located in the resources folder and plot it with matplotlib (make sure that the resources folder exist so no error will occur). First, let's import the libraries that are needed."
   ]
  },
  {
   "cell_type": "code",
   "execution_count": null,
   "metadata": {},
   "outputs": [],
   "source": [
    "import pandas as pd\n",
    "import matplotlib.pyplot as plt"
   ]
  },
  {
   "cell_type": "markdown",
   "metadata": {},
   "source": [
    "Let's read the csv data and show it using the head function."
   ]
  },
  {
   "cell_type": "code",
   "execution_count": null,
   "metadata": {},
   "outputs": [],
   "source": [
    "df = pd.read_csv('resources/example.csv')"
   ]
  },
  {
   "cell_type": "code",
   "execution_count": null,
   "metadata": {},
   "outputs": [],
   "source": [
    "df.head()"
   ]
  },
  {
   "cell_type": "markdown",
   "metadata": {},
   "source": [
    "The data shown above are obtained from a car simulation, there are multiple types of data present in the csv. Based on the headers such as 'step', 'rate', 'time', etc. we can use it as args to select data from the csv file. Let's assign the time and speed column to variables with their respective names each."
   ]
  },
  {
   "cell_type": "code",
   "execution_count": null,
   "metadata": {},
   "outputs": [],
   "source": [
    "time = np.array(df.time[1:])\n",
    "speed = np.array(df.speed[1:])"
   ]
  },
  {
   "cell_type": "markdown",
   "metadata": {},
   "source": [
    "Let's see what the speed variable contain"
   ]
  },
  {
   "cell_type": "code",
   "execution_count": null,
   "metadata": {},
   "outputs": [],
   "source": [
    "print(speed)"
   ]
  },
  {
   "cell_type": "markdown",
   "metadata": {},
   "source": [
    "As we can see it contains all the data from the speed column, we can also get data from other columns by doing the same steps."
   ]
  },
  {
   "cell_type": "code",
   "execution_count": null,
   "metadata": {},
   "outputs": [],
   "source": [
    "df.throttle[1:]"
   ]
  },
  {
   "cell_type": "markdown",
   "metadata": {},
   "source": [
    "Now, let's plot what the speed of the car is like with each time step."
   ]
  },
  {
   "cell_type": "code",
   "execution_count": null,
   "metadata": {},
   "outputs": [],
   "source": [
    "plt.figure()\n",
    "plt.title('Speed vs Time')\n",
    "plt.xlabel('Time (s)')\n",
    "plt.ylabel('Speed (m/s)')\n",
    "plt.plot(time, speed, label='Speed')\n",
    "plt.legend(loc='lower right')\n",
    "plt.show()"
   ]
  },
  {
   "cell_type": "markdown",
   "metadata": {},
   "source": [
    "------------------------------"
   ]
  },
  {
   "cell_type": "markdown",
   "metadata": {},
   "source": [
    "That's it for this module of Circle-I! We hope that this module can increase your curiosity in learning python and using it for your own experiments. Thank you for downloading this module and stay tuned for more Circle-I!"
   ]
  },
  {
   "cell_type": "code",
   "execution_count": null,
   "metadata": {},
   "outputs": [],
   "source": [
    "from time import sleep\n",
    "\n",
    "def Banzai():\n",
    "    for i in range(3):\n",
    "        print('Banzai!')\n",
    "        sleep(1)\n",
    "        for j in range(3):\n",
    "            print('Vivat FT!')\n",
    "            sleep(0.5)\n",
    "        sleep(1)\n",
    "    for i in range(3):\n",
    "        if i == 2:\n",
    "            print('Triple Skullers!')\n",
    "            sleep(0.5)\n",
    "            for i in range(3):\n",
    "                print('Yes!', end=' ')\n",
    "                sleep(0.25)\n",
    "        else:\n",
    "            print('Skullers!')\n",
    "            sleep(0.5)\n",
    "            print('Yes!')\n",
    "            sleep(1)"
   ]
  },
  {
   "cell_type": "code",
   "execution_count": null,
   "metadata": {},
   "outputs": [],
   "source": [
    "Banzai()"
   ]
  },
  {
   "cell_type": "code",
   "execution_count": null,
   "metadata": {},
   "outputs": [],
   "source": []
  }
 ],
 "metadata": {
  "kernelspec": {
   "display_name": "Python 3",
   "language": "python",
   "name": "python3"
  },
  "language_info": {
   "codemirror_mode": {
    "name": "ipython",
    "version": 3
   },
   "file_extension": ".py",
   "mimetype": "text/x-python",
   "name": "python",
   "nbconvert_exporter": "python",
   "pygments_lexer": "ipython3",
   "version": "3.7.1"
  }
 },
 "nbformat": 4,
 "nbformat_minor": 4
}
